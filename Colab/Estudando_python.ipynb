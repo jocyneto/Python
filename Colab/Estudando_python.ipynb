{
  "nbformat": 4,
  "nbformat_minor": 0,
  "metadata": {
    "colab": {
      "name": "Estudando python.ipynb",
      "provenance": [],
      "collapsed_sections": [
        "_4YRIzD3hN0Z",
        "UEAszOV9mdi3",
        "bFOYX0C6Z_y4"
      ],
      "toc_visible": true
    },
    "kernelspec": {
      "name": "python3",
      "display_name": "Python 3"
    }
  },
  "cells": [
    {
      "cell_type": "markdown",
      "metadata": {
        "id": "_4YRIzD3hN0Z"
      },
      "source": [
        "# Primeiros passos\r\n"
      ]
    },
    {
      "cell_type": "code",
      "metadata": {
        "id": "kJlkqzGIhsN5"
      },
      "source": [
        "# Serve para verificar a documentação dentro do código, \r\n",
        "# caso voce queira saber do meotodo print, por exemplo,\r\n",
        "# apenas digitar 'print' que retornará o que a função possui.\r\n",
        "# ctrl + Q ou D --> para sair\r\n",
        "help()"
      ],
      "execution_count": null,
      "outputs": []
    },
    {
      "cell_type": "code",
      "metadata": {
        "colab": {
          "base_uri": "https://localhost:8080/"
        },
        "id": "XF1osiODi_-D",
        "outputId": "f7979d47-0bb2-4755-a9d6-70fe6bbf7323"
      },
      "source": [
        "pais = \"Brasil\"\r\n",
        "numero = 10\r\n",
        "numero_doido = 1.34324324234324234\r\n",
        "type(pais)\r\n",
        "#type(numero)\r\n",
        "#type(numeroDoido)\r\n",
        "#type serve para verificar o tipo do objeto ou da variável, por exemplo."
      ],
      "execution_count": null,
      "outputs": [
        {
          "output_type": "execute_result",
          "data": {
            "text/plain": [
              "str"
            ]
          },
          "metadata": {
            "tags": []
          },
          "execution_count": 6
        }
      ]
    },
    {
      "cell_type": "code",
      "metadata": {
        "colab": {
          "base_uri": "https://localhost:8080/"
        },
        "id": "ZbaI8WT7j6C9",
        "outputId": "c70b6149-c074-4a5d-f93c-73937b91bd12"
      },
      "source": [
        "pais = \"Brasil\"\r\n",
        "titulos = 5\r\n",
        "\r\n",
        "print(pais, \"possui\", titulos, sep=\" - \") #sep adiciona um separador entre os valores \r\n",
        "print(pais, \"possui\", titulos, sep=\"-\", end=\" Fim\\n\")#end adiciona no fim do print"
      ],
      "execution_count": null,
      "outputs": [
        {
          "output_type": "stream",
          "text": [
            "Brasil-possui-5\n",
            "Brasil-possui-5 Fim\n"
          ],
          "name": "stdout"
        }
      ]
    },
    {
      "cell_type": "markdown",
      "metadata": {
        "id": "UEAszOV9mdi3"
      },
      "source": [
        "# Fazendo o jogo de adivinhação"
      ]
    },
    {
      "cell_type": "code",
      "metadata": {
        "id": "QY_ONzd2mkkE"
      },
      "source": [
        "print(\"--------------------------------\")\r\n",
        "print(\"Bem vindo ao jogo de ADVINHACAO\")\r\n",
        "print(\"--------------------------------\\n\\n\")\r\n",
        "\r\n",
        "numero_secreto = 10\r\n",
        "\r\n",
        "contador = 1\r\n",
        "total_de_chutes = 3\r\n",
        "\r\n",
        "while (contador <= total_de_chutes):\r\n",
        "    print(f\"Roda {contador} de {total_de_chutes}\")\r\n",
        "    \r\n",
        "    chute_str = input(\"Digite o chute: \")\r\n",
        "    chute = int(chute_str)\r\n",
        "\r\n",
        "    acertou = chute == numero_secreto\r\n",
        "    maior = chute > numero_secreto\r\n",
        "    menor = chute < numero_secreto\r\n",
        "   \r\n",
        "    if (acertou):\r\n",
        "        print(\"Você acertou!\")\r\n",
        "        contador = total_de_chutes\r\n",
        "    else:\r\n",
        "        if (maior):\r\n",
        "            print(\"Errou! Seu chute foi maior que o numero secreto\")\r\n",
        "        elif (menor):\r\n",
        "            print(\"Errou! Seu chute foi menor que o numero secreto\")\r\n",
        "    \r\n",
        "    contador += 1\r\n",
        "\r\n",
        "\r\n",
        "print(\"Game over!\")"
      ],
      "execution_count": null,
      "outputs": []
    },
    {
      "cell_type": "code",
      "metadata": {
        "id": "frgkExYEto0l"
      },
      "source": [
        "for i in range(0,10):\r\n",
        "    print(f\"{i:04d}\")"
      ],
      "execution_count": null,
      "outputs": []
    },
    {
      "cell_type": "code",
      "metadata": {
        "id": "0jVzb8SNt40x"
      },
      "source": [
        "for i in range(0,10,2):\r\n",
        "    print(i)"
      ],
      "execution_count": null,
      "outputs": []
    },
    {
      "cell_type": "code",
      "metadata": {
        "id": "Kl42zOLQt-8K"
      },
      "source": [
        "for i in [0,1,2,3,4,5]:\r\n",
        "    print(i)"
      ],
      "execution_count": null,
      "outputs": []
    },
    {
      "cell_type": "code",
      "metadata": {
        "id": "gNXDCEPvujeK"
      },
      "source": [
        "import random\r\n",
        "\r\n",
        "print(\"--------------------------------\")\r\n",
        "print(\"Bem vindo ao jogo de ADVINHACAO\")\r\n",
        "print(\"--------------------------------\\n\\n\")\r\n",
        "\r\n",
        "#numero_secreto = round(random.uniform(1,20))\r\n",
        "numero_secreto = random.randrange(1,21)\r\n",
        "print(numero_secreto)\r\n",
        "total_de_chutes = 0\r\n",
        "pontos = 1000\r\n",
        "\r\n",
        "print(\"Escolha o nivel do jogo: \\n(1) Fácil - (2) Médio - (3)Difícil\")\r\n",
        "nivel = int(input(\"Digite a escolha: \"))\r\n",
        "\r\n",
        "if (nivel == 1):\r\n",
        "    total_de_chutes = 15\r\n",
        "elif (nivel == 2):\r\n",
        "    total_de_chutes = 10\r\n",
        "else:\r\n",
        "    total_de_chutes = 5\r\n",
        "\r\n",
        "\r\n",
        "for rodada in range(1, total_de_chutes+1):\r\n",
        "    print(f\"\\nRoda {rodada} de {total_de_chutes}\")\r\n",
        "    \r\n",
        "    chute_str = input(\"Digite o chute: \")\r\n",
        "    chute = int(chute_str)\r\n",
        "    \r\n",
        "    if(chute < 1 or chute >20):\r\n",
        "        print(\"\\nDigite um número de 1 a 20, tente novamente!!!\")\r\n",
        "        continue #continua o laço, porém pula para proxima interação\r\n",
        "\r\n",
        "    acertou = chute == numero_secreto\r\n",
        "    maior = chute > numero_secreto\r\n",
        "    menor = chute < numero_secreto\r\n",
        "   \r\n",
        "    if (acertou):\r\n",
        "        print(f\"Você acertou! E fez {pontos:04} pontos!\")\r\n",
        "        break\r\n",
        "    else:\r\n",
        "        if (maior):\r\n",
        "            print(\"Errou! Seu chute foi maior que o numero secreto\")\r\n",
        "        elif (menor):\r\n",
        "            print(\"Errou! Seu chute foi menor que o numero secreto\")\r\n",
        "    pontos_perdidos = abs(chute - numero_secreto)\r\n",
        "    pontos -= pontos_perdidos\r\n",
        "    \r\n",
        "print(\"Game over!\")"
      ],
      "execution_count": null,
      "outputs": []
    },
    {
      "cell_type": "markdown",
      "metadata": {
        "id": "CoOFDs-TLg57"
      },
      "source": [
        "# Definindo projeto multiplo jogos\r\n"
      ]
    },
    {
      "cell_type": "code",
      "metadata": {
        "id": "ji6E8GWTLqQG"
      },
      "source": [
        "import random\r\n",
        "\r\n",
        "def jogar_advinhacao():\r\n",
        "    print(\"--------------------------------\")\r\n",
        "    print(\"Bem vindo ao jogo de ADVINHACAO\")\r\n",
        "    print(\"--------------------------------\\n\\n\")\r\n",
        "\r\n",
        "    #numero_secreto = round(random.uniform(1,20))\r\n",
        "    numero_secreto = random.randrange(1,21)\r\n",
        "    print(numero_secreto)\r\n",
        "    total_de_chutes = 0\r\n",
        "    pontos = 1000\r\n",
        "\r\n",
        "    print(\"Escolha o nivel do jogo: \\n(1) Fácil - (2) Médio - (3)Difícil\")\r\n",
        "    nivel = int(input(\"Digite a escolha: \"))\r\n",
        "\r\n",
        "    if (nivel == 1):\r\n",
        "        total_de_chutes = 15\r\n",
        "    elif (nivel == 2):\r\n",
        "        total_de_chutes = 10\r\n",
        "    else:\r\n",
        "        total_de_chutes = 5\r\n",
        "\r\n",
        "\r\n",
        "    for rodada in range(1, total_de_chutes+1):\r\n",
        "        print(f\"\\nRoda {rodada} de {total_de_chutes}\")\r\n",
        "        \r\n",
        "        chute_str = input(\"Digite o chute: \")\r\n",
        "        chute = int(chute_str)\r\n",
        "        \r\n",
        "        if(chute < 1 or chute >20):\r\n",
        "            print(\"\\nDigite um número de 1 a 20, tente novamente!!!\")\r\n",
        "            continue #continua o laço, porém pula para proxima interação\r\n",
        "\r\n",
        "        acertou = chute == numero_secreto\r\n",
        "        maior = chute > numero_secreto\r\n",
        "        menor = chute < numero_secreto\r\n",
        "    \r\n",
        "        if (acertou):\r\n",
        "            print(f\"Você acertou! E fez {pontos:04} pontos!\")\r\n",
        "            break\r\n",
        "        else:\r\n",
        "            if (maior):\r\n",
        "                print(\"Errou! Seu chute foi maior que o numero secreto\")\r\n",
        "            elif (menor):\r\n",
        "                print(\"Errou! Seu chute foi menor que o numero secreto\")\r\n",
        "        pontos_perdidos = abs(chute - numero_secreto)\r\n",
        "        pontos -= pontos_perdidos\r\n",
        "        \r\n",
        "    print(\"Game over!\")\r\n",
        "\r\n",
        "\r\n",
        "# if (__name__ == '__main__'):\r\n",
        "#     jogar_advinhacao()\r\n"
      ],
      "execution_count": null,
      "outputs": []
    },
    {
      "cell_type": "code",
      "metadata": {
        "id": "g0MQb4LpL2pf"
      },
      "source": [
        "def jogar_forca():\r\n",
        "    print(\"--------------------------------\")\r\n",
        "    print(\"Bem vindo ao jogo da FORCA\")\r\n",
        "    print(\"--------------------------------\\n\\n\")\r\n",
        "\r\n",
        "\r\n",
        "# if (__name__ == __main__'):\r\n",
        "#     jogar_forca()"
      ],
      "execution_count": null,
      "outputs": []
    },
    {
      "cell_type": "code",
      "metadata": {
        "id": "v5ReHu2HNdXp"
      },
      "source": [
        "# Caso tivesse dois arquivos .py para realizar a importação\r\n",
        "# import forca\r\n",
        "# import adivinhacao\r\n",
        "\r\n",
        "print(\"--------------------------------\")\r\n",
        "print(\"Bem vindo ao sistemas de jogos\")\r\n",
        "print(\"--------------------------------\\n\\n\")\r\n",
        "\r\n",
        "print(\"Escolha o jogo\\n(1) Adivinhacao - (2)Forca\")\r\n",
        "opcao = int(input(\"Qual jogo? \"))\r\n",
        "\r\n",
        "if (opcao == 1):\r\n",
        "    jogar_advinhacao()\r\n",
        "elif (opcao == 2):\r\n",
        "    jogar_forca()"
      ],
      "execution_count": null,
      "outputs": []
    },
    {
      "cell_type": "markdown",
      "metadata": {
        "id": "eo5iO1TNWgKM"
      },
      "source": [
        "# Jogo da forca"
      ]
    },
    {
      "cell_type": "code",
      "metadata": {
        "id": "1l_3Q3QMUqlX"
      },
      "source": [
        "import random\r\n",
        "\r\n",
        "mensagem_inicial()\r\n",
        "criando_arquivo()\r\n",
        "lista_palavras = lendo_arquivo()\r\n",
        "\r\n",
        "\r\n",
        "# print(lista_palavras)\r\n",
        "#numero = random.randrange(0, len(lista_palavras))\r\n",
        "#palavra_secreta = lista_palavras[numero]\r\n",
        "palavra_secreta = random.choice(lista_palavras).upper()\r\n",
        "#print(palavra_secreta)\r\n",
        "acertou = False\r\n",
        "enforcou = False\r\n",
        "tentativa = 0\r\n",
        "\r\n",
        "#[expr for item in lista]\r\n",
        "#aplique a expressão expr em cada item da lista. \r\n",
        "lista_de_letras = ['_' for letra in palavra_secreta]\r\n",
        "print(lista_de_letras,'\\n')\r\n",
        "\r\n",
        "while (not acertou and not enforcou):\r\n",
        "    chute = define_chute()\r\n",
        "\r\n",
        "    if (chute in palavra_secreta):\r\n",
        "        verifica_chute_existente(chute, palavra_secreta, lista_de_letras)\r\n",
        "    else:        \r\n",
        "        tentativa += 1\r\n",
        "        desenha_forca(tentativa)\r\n",
        "    \r\n",
        "    enforcou = tentativa == 7\r\n",
        "    acertou = '_' not in lista_de_letras\r\n",
        "    \r\n",
        "    print(lista_de_letras,'\\n')\r\n",
        "\r\n",
        "\r\n",
        "if (acertou):\r\n",
        "    mensagem_vencedor()\r\n",
        "else:\r\n",
        "    mensagem_derrota(palavra_secreta)"
      ],
      "execution_count": null,
      "outputs": []
    },
    {
      "cell_type": "code",
      "metadata": {
        "id": "CD9tfVmzWm83"
      },
      "source": [
        "def mensagem_inicial():\r\n",
        "    print('####################')\r\n",
        "    print('## jogo da forca ###')\r\n",
        "    print('####################')\r\n"
      ],
      "execution_count": 17,
      "outputs": []
    },
    {
      "cell_type": "code",
      "metadata": {
        "id": "4No3Wcmt9Oxm"
      },
      "source": [
        "def criando_arquivo():\r\n",
        "    arquivo = open('arquivo_frutas.txt', 'w')\r\n",
        "    arquivo.write('melancia\\n')\r\n",
        "    arquivo.write('banana\\n')\r\n",
        "    arquivo.write('amora\\n')\r\n",
        "    arquivo.write('morango\\n')\r\n",
        "    arquivo.write('abacaxi\\n')\r\n",
        "    arquivo.write('laranja\\n')\r\n",
        "    arquivo.close()\r\n"
      ],
      "execution_count": 18,
      "outputs": []
    },
    {
      "cell_type": "code",
      "metadata": {
        "id": "PCHLMxfI-J6a"
      },
      "source": [
        "def lendo_arquivo():\r\n",
        "    lista_palavras = []\r\n",
        "    arquivo = open('arquivo_frutas.txt', 'r')\r\n",
        "    for linha in arquivo:\r\n",
        "        lista_palavras.append(linha.strip())\r\n",
        "    arquivo.close()\r\n",
        "    return lista_palavras"
      ],
      "execution_count": 3,
      "outputs": []
    },
    {
      "cell_type": "code",
      "metadata": {
        "id": "TgnQlx4g_0F0"
      },
      "source": [
        "def define_chute():\r\n",
        "    chute = input('Digite a letra do chute: ')\r\n",
        "    return chute.strip().upper()"
      ],
      "execution_count": 4,
      "outputs": []
    },
    {
      "cell_type": "code",
      "metadata": {
        "id": "4bC7tN5RAfxK"
      },
      "source": [
        "def verifica_chute_existente(chute, palavra_secreta, lista_de_letras):\r\n",
        "    posicao_da_letra = 0 \r\n",
        "    for letra in palavra_secreta:       \r\n",
        "            letra = letra.upper()\r\n",
        "            if (chute == letra):\r\n",
        "                lista_de_letras[posicao_da_letra] = letra\r\n",
        "            posicao_da_letra += 1"
      ],
      "execution_count": 5,
      "outputs": []
    },
    {
      "cell_type": "code",
      "metadata": {
        "id": "RtOc6_qBCOnF"
      },
      "source": [
        "def mensagem_derrota(palavra_secreta):\r\n",
        "    print('Puxa, você foi enforcado!        ')\r\n",
        "    print(f'A palavra era {palavra_secreta} ')\r\n",
        "    print('    _______________              ')\r\n",
        "    print('   /               \\             ')\r\n",
        "    print('  /                 \\            ')\r\n",
        "    print('//                   \\/\\         ')\r\n",
        "    print('\\|   XXXX     XXXX   | /         ')\r\n",
        "    print(' |   XXXX     XXXX   |/          ')\r\n",
        "    print(' |   XXX       XXX   |           ')\r\n",
        "    print(' |                   |           ')\r\n",
        "    print(' \\__      XXX      __/           ')\r\n",
        "    print('   |\\     XXX     /|             ')\r\n",
        "    print('   | |           | |             ')\r\n",
        "    print('   | I I I I I I I |             ')\r\n",
        "    print('   |  I I I I I I  |             ')\r\n",
        "    print('   \\_             _/             ')\r\n",
        "    print('     \\_         _/               ')\r\n",
        "    print('       \\_______/                 ')"
      ],
      "execution_count": 6,
      "outputs": []
    },
    {
      "cell_type": "code",
      "metadata": {
        "id": "Ca_P7C7nCq1v"
      },
      "source": [
        "def mensagem_vencedor():\r\n",
        "    print(\"Parabéns, você ganhou!   \")\r\n",
        "    print(\"       ___________       \")\r\n",
        "    print(\"      '._==_==_=_.'      \")\r\n",
        "    print(\"      .-\\\\:      /-.     \")\r\n",
        "    print(\"     | (|:.     |) |     \")\r\n",
        "    print(\"      '-|:.     |-'      \")\r\n",
        "    print(\"        \\\\::.    /       \")\r\n",
        "    print(\"         '::. .'         \")\r\n",
        "    print(\"           ) (           \")\r\n",
        "    print(\"         _.' '._         \")\r\n",
        "    print(\"        '-------'        \")"
      ],
      "execution_count": 7,
      "outputs": []
    },
    {
      "cell_type": "code",
      "metadata": {
        "id": "e4DaV_hzDuYu"
      },
      "source": [
        "def desenha_forca(erros):\r\n",
        "    print(\"  _______     \")\r\n",
        "    print(\" |/      |    \")\r\n",
        "\r\n",
        "    if (erros == 1):\r\n",
        "        print(\" |      (_)   \")\r\n",
        "        print(\" |            \")\r\n",
        "        print(\" |            \")\r\n",
        "        print(\" |            \")\r\n",
        "\r\n",
        "    if (erros == 2):\r\n",
        "        print(\" |      (_)   \")\r\n",
        "        print(\" |      \\     \")\r\n",
        "        print(\" |            \")\r\n",
        "        print(\" |            \")\r\n",
        "\r\n",
        "    if (erros == 3):\r\n",
        "        print(\" |      (_)   \")\r\n",
        "        print(\" |      \\|    \")\r\n",
        "        print(\" |            \")\r\n",
        "        print(\" |            \")\r\n",
        "\r\n",
        "    if (erros == 4):\r\n",
        "        print(\" |      (_)   \")\r\n",
        "        print(\" |      \\|/   \")\r\n",
        "        print(\" |            \")\r\n",
        "        print(\" |            \")\r\n",
        "\r\n",
        "    if (erros == 5):\r\n",
        "        print(\" |      (_)   \")\r\n",
        "        print(\" |      \\|/   \")\r\n",
        "        print(\" |       |    \")\r\n",
        "        print(\" |            \")\r\n",
        "\r\n",
        "    if (erros == 6):\r\n",
        "        print(\" |      (_)   \")\r\n",
        "        print(\" |      \\|/   \")\r\n",
        "        print(\" |       |    \")\r\n",
        "        print(\" |      /     \")\r\n",
        "\r\n",
        "    if (erros == 7):\r\n",
        "        print(\" |      (_)   \")\r\n",
        "        print(\" |      \\|/   \")\r\n",
        "        print(\" |       |    \")\r\n",
        "        print(\" |      / \\   \")\r\n",
        "\r\n",
        "    print(\" |            \")\r\n",
        "    print(\"_|___         \")\r\n",
        "    print()"
      ],
      "execution_count": 13,
      "outputs": []
    },
    {
      "cell_type": "markdown",
      "metadata": {
        "id": "bFOYX0C6Z_y4"
      },
      "source": [
        "# EXTRA"
      ]
    },
    {
      "cell_type": "code",
      "metadata": {
        "colab": {
          "base_uri": "https://localhost:8080/"
        },
        "id": "2Nm-Ak7IzJay",
        "outputId": "813298be-cf98-47fb-b3d4-9555cbad227d"
      },
      "source": [
        "inteiros = [1,3,4,5,7,8,9]\r\n",
        "pares = [numero for numero in inteiros if numero % 2 == 0]\r\n",
        "\r\n",
        "\r\n",
        "pares"
      ],
      "execution_count": null,
      "outputs": [
        {
          "output_type": "execute_result",
          "data": {
            "text/plain": [
              "[4, 8]"
            ]
          },
          "metadata": {
            "tags": []
          },
          "execution_count": 14
        }
      ]
    },
    {
      "cell_type": "markdown",
      "metadata": {
        "id": "kbMu-bOJiIls"
      },
      "source": [
        "SETS"
      ]
    },
    {
      "cell_type": "code",
      "metadata": {
        "id": "dwCoAFuniM_L",
        "colab": {
          "base_uri": "https://localhost:8080/"
        },
        "outputId": "50163ee2-1f78-410e-c946-b6a87422e21f"
      },
      "source": [
        "#set\r\n",
        "colecao = {11122233344, 22233344455, 33344455566} #não possuem ordem de inserção\r\n",
        "colecao.add(44455566677) #vai adicionar pois não existe ainda\r\n",
        "colecao.add(11122233344) #nao vai adicionar pois este CPF já existe!\r\n",
        "\r\n",
        "#como o set não possui indice acessamos através do IN\r\n",
        "print (11122233344 in colecao)\r\n",
        "print (11198998988 in colecao)"
      ],
      "execution_count": 23,
      "outputs": [
        {
          "output_type": "stream",
          "text": [
            "True\n",
            "False\n"
          ],
          "name": "stdout"
        }
      ]
    },
    {
      "cell_type": "markdown",
      "metadata": {
        "id": "rvpEw9-ciWB8"
      },
      "source": [
        "TUPLAS"
      ]
    },
    {
      "cell_type": "code",
      "metadata": {
        "id": "yKUYTmYHhOyC",
        "colab": {
          "base_uri": "https://localhost:8080/"
        },
        "outputId": "2f344436-a46b-465c-da98-c69afd8b85de"
      },
      "source": [
        "#tuplas\r\n",
        "#EXEMPLO 1\r\n",
        "p1 = ('jocy', 27)\r\n",
        "p2 = ('samira', 27)\r\n",
        "\r\n",
        "print(p1, p2)\r\n",
        "\r\n",
        "#EXEMPLO 2: GUARDANDO TUPLAS DENTRO DE LISTA\r\n",
        "lista = []\r\n",
        "p1 = ('jocy', 27)\r\n",
        "p2 = ('samira', 25)\r\n",
        "\r\n",
        "lista.append(p1)\r\n",
        "lista.append(p2)\r\n",
        "\r\n",
        "print(lista,end='\\n\\n')\r\n",
        "\r\n",
        "#EXEMPLO 3: AACESSANDO O INDICIES\r\n",
        "print(f'Acessando as tuplas P1 -> ',p1[0],p1[1])\r\n",
        "print(f'Acessando as tuplas P2 -> ',p2[0],p2[1],end='\\n\\n')\r\n",
        "\r\n",
        "print(f'Acessando as tupplas dentro da lista', lista[0])\r\n",
        "print(f'Acessando as tupplas dentro da lista', lista[1],end='\\n\\n')\r\n",
        "\r\n",
        "print(f'Acessando as tupplas dentro da lista -> Nome: ', lista[0][0])\r\n",
        "print(f'Acessando as tupplas dentro da lista -> Idade: ', lista[0][1])\r\n",
        "print(f'Acessando as tupplas dentro da lista -> Nome: ', lista[1][0])\r\n",
        "print(f'Acessando as tupplas dentro da lista -> Idade: ', lista[1][1])\r\n",
        "\r\n",
        "\r\n",
        "\r\n"
      ],
      "execution_count": 24,
      "outputs": [
        {
          "output_type": "stream",
          "text": [
            "('jocy', 27) ('samira', 27)\n",
            "[('jocy', 27), ('samira', 25)]\n",
            "\n",
            "Acessando as tuplas P1 ->  jocy 27\n",
            "Acessando as tuplas P2 ->  samira 25\n",
            "\n",
            "Acessando as tupplas dentro da lista ('jocy', 27)\n",
            "Acessando as tupplas dentro da lista ('samira', 25)\n",
            "\n",
            "Acessando as tupplas dentro da lista -> Nome:  jocy\n",
            "Acessando as tupplas dentro da lista -> Idade:  27\n",
            "Acessando as tupplas dentro da lista -> Nome:  samira\n",
            "Acessando as tupplas dentro da lista -> Idade:  25\n"
          ],
          "name": "stdout"
        }
      ]
    },
    {
      "cell_type": "code",
      "metadata": {
        "id": "t4A8YNPbiaHt"
      },
      "source": [
        "#TUPLAS CONVERSÕES\r\n",
        "colecao = ('S', 'T', 'Q', 'Q', 'S', 'S', 'D')\r\n",
        "print(f'imprimindo a TUPLA                          -> {colecao}')\r\n",
        "\r\n",
        "# tupla -> lista\r\n",
        "colecao = list(colecao)\r\n",
        "print(f'imprimindo a TUPLA transformada em LISTA    -> {colecao}')\r\n",
        "\r\n",
        "# lista -> tupla \r\n",
        "colecao = tuple(colecao)\r\n",
        "print(f'imprimindo a LISTA transformada em TUPLA    -> {colecao}')\r\n",
        "\r\n",
        "#PODENDO UTILIZAR A MESMA LOGICA PARA TRANFORMAR SETS\r\n",
        "colecao = set(colecao)\r\n",
        "print(f'imprimindo a TUPLA transformada em SET      -> {colecao}')"
      ],
      "execution_count": null,
      "outputs": []
    },
    {
      "cell_type": "markdown",
      "metadata": {
        "id": "18hRmeIKkU_b"
      },
      "source": [
        "TRANSFORMAÇÕES"
      ]
    },
    {
      "cell_type": "code",
      "metadata": {
        "id": "Zj__9q59GaZI"
      },
      "source": [
        "#Escrevendo um arquivo de texto:\r\n",
        "# o 'w' write, ele sobrescreve tudo que já está escrito\r\n",
        "# o 'a' append, ele vai adicionando apartir da da ultima linha escrita\r\n",
        "arquivo = open('arquivo_frutas.txt', 'w')\r\n",
        "arquivo.write('banana\\n')\r\n",
        "arquivo.write('abacaxi\\n')\r\n",
        "arquivo.write('maça\\n')\r\n",
        "arquivo.close()"
      ],
      "execution_count": null,
      "outputs": []
    },
    {
      "cell_type": "code",
      "metadata": {
        "id": "gbL7dN3BJJxo"
      },
      "source": [
        "#lendo linha por linha\r\n",
        "arquivo = open('arquivo_frutas.txt', 'r')\r\n",
        "linha = arquivo.readline()\r\n",
        "#strip tira os caracteres especiais também, no caso o \\n\r\n",
        "print(linha.strip())\r\n",
        "\r\n",
        "arquivo.close()"
      ],
      "execution_count": null,
      "outputs": []
    },
    {
      "cell_type": "code",
      "metadata": {
        "id": "toUsA7dPJ3op"
      },
      "source": [
        "#lendo todo o arquivo\r\n",
        "arquivo = open('arquivo_frutas.txt', 'r')\r\n",
        "conteudo = arquivo.read()\r\n",
        "#irá ler como um fluxo de chamar novamente, como ele não tera mais nada aparece-\r\n",
        "#rá apenas '', pois já foi tudo lido\r\n",
        "#conteudo = arquivo.read()\r\n",
        "print(conteudo)\r\n",
        "\r\n",
        "arquivo.close()"
      ],
      "execution_count": null,
      "outputs": []
    },
    {
      "cell_type": "code",
      "metadata": {
        "id": "jmkwMPyjLv0f"
      },
      "source": [
        "arquivo = open('arquivo_frutas.txt', 'r')\r\n",
        "\r\n",
        "for linha in arquivo:\r\n",
        "    print(linha.strip())\r\n",
        "\r\n",
        "arquivo.close()"
      ],
      "execution_count": null,
      "outputs": []
    },
    {
      "cell_type": "code",
      "metadata": {
        "id": "l4_vBMBcO5kI"
      },
      "source": [
        "#lendo e forma segura, não precisa dar o close\r\n",
        "with open('arquivo_frutas.txt', 'r') as arquivo:\r\n",
        "    for linha in arquivo:\r\n",
        "        print(linha.strip())\r\n"
      ],
      "execution_count": null,
      "outputs": []
    },
    {
      "cell_type": "markdown",
      "metadata": {
        "id": "WAOQfzkRFhTY"
      },
      "source": [
        "# List Comprehensions\r\n"
      ]
    },
    {
      "cell_type": "markdown",
      "metadata": {
        "id": "ffwa3rEqJDRH"
      },
      "source": [
        "\r\n",
        "\r\n",
        "Sua sintaxe básica é:\r\n",
        "`[expr for item in lista]`\r\n",
        "\r\n",
        "Em outras palavras: aplique a expressão expr em cada item da lista.\r\n",
        "\r\n",
        "Exemplo: dado o seguinte código:\r\n",
        "\r\n",
        "```\r\n",
        "for item in range(10):\r\n",
        "  lista.append(item**2)\r\n",
        "```\r\n",
        "\r\n",
        "Podemos reescrevê-lo, utilizando list comprehensions, da seguinte forma:\r\n",
        "\r\n",
        "\r\n",
        "`lista = [item**2 for item in range(10)]`\r\n",
        "Ou seja: aplique a potência de 2 em todos os itens da lista.\r\n",
        "\r\n",
        "Outro Exemplo: \r\n",
        "\r\n",
        "Dado o seguinte código, que transforma os itens da lista em maiúsculos:\r\n",
        "\r\n",
        "```\r\n",
        "for item in lista:\r\n",
        "  resultado.append(str(item).upper())\r\n",
        "```\r\n",
        "Podemos reescrevê-lo da seguinte forma:\r\n",
        "`resultado = [str(item).upper() for item in lista]`\r\n",
        "\r\n",
        "---\r\n",
        "\r\n",
        "**List Comprehensions com if**\r\n",
        "\r\n",
        "\r\n",
        "List comprehensions podem utilizar expressões condicionais para criar listas ou modificar listas existentes.\r\n",
        "\r\n",
        "Sua sintaxe básica é:\r\n",
        "```\r\n",
        "[expr for item in lista if cond]\r\n",
        "```\r\n",
        "\r\n",
        "\r\n",
        "Ou seja:\r\n",
        "\r\n",
        "Aplique a expressão expr em cada item da lista caso a condição cond seja satisfeita.\r\n",
        "\r\n",
        "Vamos criar algumas listas utilizando condições.\r\n",
        "\r\n",
        "Por exemplo, podemos retirar os números ímpares de um conjunto de número da seguinte forma:\r\n",
        "\r\n",
        "```\r\n",
        "resultado = [numero for numero in range(20) if numero % 2 == 0]\r\n",
        "```\r\n",
        "\r\n",
        "O que resulta em:\r\n",
        "```\r\n",
        "resultado = [0, 2, 4, 6, 8, 10, 12, 14, 16, 18]\r\n",
        "```\r\n",
        "\r\n",
        "\r\n",
        "\r\n",
        "---\r\n",
        "\r\n",
        " **List Comprehensions com vários if’s**\r\n",
        "\r\n",
        "\r\n",
        "Podemos verificar condições em duas listas diferentes dentro da mesma list comprehension.\r\n",
        "\r\n",
        "Por exemplo: gostaríamos de saber os Múltiplos Comuns de 5 e 6.\r\n",
        "\r\n",
        "Utilizando múltiplos if's e list comprehensions, podemos criar o seguinte código:\r\n",
        "```\r\n",
        "resultado = [numero for numero in range(100) if numero % 5 == 0 if numero % 6 == 0]\r\n",
        "```\r\n",
        "\r\n",
        "Ou seja, o número só será passado para lista resultado caso sua divisão por 5 E por 6 seja igual à zero.\r\n",
        "\r\n",
        "O resultado do código acima será:\r\n",
        "```\r\n",
        "resultado = [0, 30, 60, 90]\r\n",
        "```\r\n",
        "\r\n",
        "\r\n",
        "---\r\n",
        "**List Comprehensions com if + else**\r\n",
        "\r\n",
        "\r\n",
        "Outra forma de se utilizar expressões condicionais e list comprehension é usar o conjunto if + else.\r\n",
        "\r\n",
        "A sintaxe básica para essa construção é:\r\n",
        "```\r\n",
        "[resultado_if if expr else resultado_else for item in lista]\r\n",
        "```\r\n",
        "\r\n",
        "Em outras palavras: para cada item da lista, aplique o resultado resultado_if se a expressão expr for verdadeira, caso contrário, aplique resultado_else.\r\n",
        "\r\n",
        "Por exemplo, queremos criar uma lista que contenha “1” quando determinado número for múltiplo de 5 e “0” caso contrário.\r\n",
        "\r\n",
        "Podemos codificá-lo da seguinte forma:\r\n",
        "\r\n",
        "```\r\n",
        "resultado = ['1' if numero % 5 == 0 else '0' for numero in range(16)]\r\n",
        "```\r\n",
        "\r\n",
        "Dessa forma, teremos o seguinte resultado:\r\n",
        "```\r\n",
        "resultado = ['1', '0', '0', '0', '0', '1', '0', '0', '0', '0', '1', '0', '0', '0', '0', '1']\r\n",
        "```\r\n",
        "\r\n",
        "\r\n",
        "\r\n"
      ]
    },
    {
      "cell_type": "markdown",
      "metadata": {
        "id": "TrR0belnIjnD"
      },
      "source": [
        ""
      ]
    },
    {
      "cell_type": "markdown",
      "metadata": {
        "id": "zPlkF1QNaE-P"
      },
      "source": [
        "# ESCOLHENDO CHAMPION"
      ]
    },
    {
      "cell_type": "code",
      "metadata": {
        "colab": {
          "base_uri": "https://localhost:8080/"
        },
        "id": "IYyAquuNaKVn",
        "outputId": "79f2ae82-d9b8-4d79-a7ef-3de36b59b036"
      },
      "source": [
        "import random\r\n",
        "\r\n",
        "lista_hero = ['Aphelios'\r\n",
        "              ,'Ahse'\r\n",
        "              ,'Cait'\r\n",
        "              ,'Drave'\r\n",
        "              ,'EZ'\r\n",
        "              ,'Jhin'\r\n",
        "              ,'Jinx'\r\n",
        "              ,\"Kai'sa\"\r\n",
        "              ,'Kalista'\r\n",
        "              ,'Lucian'\r\n",
        "              ,'MF'\r\n",
        "              ,'Samira'\r\n",
        "              ,'Senna'\r\n",
        "              ,'Sivir'\r\n",
        "              ,'Tristana'\r\n",
        "              ,'Twitch'\r\n",
        "              ,'Varus'\r\n",
        "              ,'Vayne'\r\n",
        "              ,'Xayah']\r\n",
        "\r\n",
        "random.shuffle(lista_hero)\r\n",
        "escolhido = random.choice(lista_hero)\r\n",
        "print('O heroi escolhido foi: ', escolhido)"
      ],
      "execution_count": null,
      "outputs": [
        {
          "output_type": "stream",
          "text": [
            "O heroi escolhido foi:  Cait\n"
          ],
          "name": "stdout"
        }
      ]
    }
  ]
}